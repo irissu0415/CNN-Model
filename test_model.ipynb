{
  "nbformat": 4,
  "nbformat_minor": 0,
  "metadata": {
    "colab": {
      "name": "test_model.ipynb",
      "provenance": [],
      "collapsed_sections": [],
      "mount_file_id": "16P33Iz-0VsF5NVI5dmbbuRDhUQDLr2pb",
      "authorship_tag": "ABX9TyPY1/5IZXKuOuZClF0/R7+D",
      "include_colab_link": true
    },
    "kernelspec": {
      "name": "python3",
      "display_name": "Python 3"
    },
    "language_info": {
      "name": "python"
    }
  },
  "cells": [
    {
      "cell_type": "markdown",
      "metadata": {
        "id": "view-in-github",
        "colab_type": "text"
      },
      "source": [
        "<a href=\"https://colab.research.google.com/github/irissu0415/CNN-Model/blob/main/test_model.ipynb\" target=\"_parent\"><img src=\"https://colab.research.google.com/assets/colab-badge.svg\" alt=\"Open In Colab\"/></a>"
      ]
    },
    {
      "cell_type": "code",
      "execution_count": null,
      "metadata": {
        "id": "LUbF7AmKgCLM"
      },
      "outputs": [],
      "source": [
        "import numpy as np\n",
        "import cv2\n",
        "from matplotlib import pyplot as plt\n",
        "from tensorflow.keras.layers import Input, Conv2D, Dense, Flatten, Dropout, GlobalMaxPooling2D, MaxPooling2D, BatchNormalization\n",
        "from tensorflow.keras.models import Model\n",
        "from tensorflow.keras.preprocessing.image import ImageDataGenerator\n",
        "from tensorflow.keras.utils import to_categorical\n",
        "from tensorflow.keras.callbacks import ReduceLROnPlateau\n",
        "from sklearn.model_selection import train_test_split\n",
        "import os\n",
        "from sklearn.preprocessing import LabelEncoder"
      ]
    },
    {
      "cell_type": "code",
      "source": [
        "path1 = './drive/MyDrive/Colab_Notebooks/CNN'  # 相對路徑\n",
        "\n",
        "x = []\n",
        "y = []"
      ],
      "metadata": {
        "id": "sF0eJ3jXqE9m"
      },
      "execution_count": null,
      "outputs": []
    },
    {
      "cell_type": "code",
      "source": [
        "# 定義ImageDataGenerator\n",
        "img_gen = ImageDataGenerator(featurewise_center=True, featurewise_std_normalization=True, rotation_range=10, \n",
        "                             width_shift_range=0.1, height_shift_range=0.1, shear_range=0.1, zoom_range=0.1)\n",
        "\n",
        "# 定義ReduceLROnPlateau\n",
        "learning_rate_function = ReduceLROnPlateau(monitor='val_acc', patience=3, verbose=1, factor=0.5, min_lr=0.00001)"
      ],
      "metadata": {
        "id": "MUsRITxqqJZ5"
      },
      "execution_count": null,
      "outputs": []
    },
    {
      "cell_type": "code",
      "source": [
        "n = 1\n",
        "for p in os.listdir(path1):\n",
        "    path2 = path1 + f'/{p}'\n",
        "    for i in os.listdir(path2):\n",
        "        img = cv2.imread(f'{path2}/{i}')\n",
        "        img = cv2.resize(img, (256) 256))\n",
        "        # img = cv2.cvtColor(img, cv2.COLOR_BGR2RGB)  # Cv2讀進來是BGR，轉成RGB\n",
        "        x.append(np.array(img))\n",
        "        y.append(str(p))"
      ],
      "metadata": {
        "id": "swMUIX-iqN3R"
      },
      "execution_count": null,
      "outputs": []
    },
    {
      "cell_type": "code",
      "source": [
        "# Label encoding\n",
        "label = LabelEncoder()\n",
        "y = label.fit_transform(y)\n",
        "y = to_categorical(y, 4)\n",
        "x = np.array(x)\n",
        "x = x / 255\n",
        "\n",
        "x_train, x_test, y_train, y_test = train_test_split(x, y, test_size=0.2, random_state=1)\n",
        "img_gen.fit(x_train)\n",
        "x_size = x.shape[0]\n",
        "# print(x_size, x.ndim, x[0].shape)\n",
        "# print(y.shape, y.ndim)"
      ],
      "metadata": {
        "id": "5gn9fWSjqQJ9"
      },
      "execution_count": null,
      "outputs": []
    },
    {
      "cell_type": "code",
      "source": [
        "i = Input(shape=x_train[0].shape)\n",
        "x = Conv2D(16, (5, 5), strides=1, activation='relu')(i)\n",
        "x = Conv2D(32, (5, 5), strides=1, activation='relu')(x)\n",
        "0\n",
        "x = Flatten()(x)\n",
        "x = Dense(128, activation='relu')(x)\n",
        "x = Dense(4, activation='softmax')(x)\n",
        "\n",
        "# model-4: 0.7778(epoch = 300)\n",
        "# i = Input(shape=x_train[0].shape)\n",
        "# x = Conv2D(16, (3, 3), strides=1, activation='relu')(i)\n",
        "# x = MaxPooling2D((2, 2))(x)\n",
        "# x = Conv2D(16, (3, 3), strides=1, activation='relu')(x)\n",
        "# x = MaxPooling2D((2, 2))(x)\n",
        "# x = Conv2D(32, (3, 3), strides=1, activation='relu')(x)\n",
        "# x = MaxPooling2D((2, 2))(x)\n",
        "\n",
        "# x = Flatten()(x)\n",
        "# x = Dense(1024, activation='relu')(x)  # 此model dense越大準確度越高\n",
        "# x = Dense(4, activation='softmax')(x)"
      ],
      "metadata": {
        "id": "HLQ6G3ltqVcv"
      },
      "execution_count": null,
      "outputs": []
    },
    {
      "cell_type": "code",
      "source": [
        "model = Model(i, x)\n",
        "batch_size = 32\n",
        "steps_per_epoch = x_size // batch_size\n",
        "model.compile(optimizer='adam', loss='categorical_crossentropy',  # for 2D y\n",
        "              metrics=['accuracy'])"
      ],
      "metadata": {
        "id": "PTZYSzZhqY9l"
      },
      "execution_count": null,
      "outputs": []
    },
    {
      "cell_type": "code",
      "source": [
        "# training model\n",
        "r = model.fit_generator(img_gen.flow(x_train, y_train, batch_size=batch_size), epochs=300,\n",
        "                        validation_data=(x_test, y_test), verbose=1, steps_per_epoch=steps_per_epoch, callbacks=[learning_rate_function])"
      ],
      "metadata": {
        "id": "ooQA_b8YqaxU",
        "colab": {
          "base_uri": "https://localhost:8080/"
        },
        "outputId": "c270a17d-67f8-4f6f-9c68-7dc2d96dcc7b"
      },
      "execution_count": null,
      "outputs": [
        {
          "output_type": "stream",
          "name": "stdout",
          "text": [
            "Epoch 1/300\n"
          ]
        },
        {
          "output_type": "stream",
          "name": "stderr",
          "text": [
            "/usr/local/lib/python3.7/dist-packages/ipykernel_launcher.py:3: UserWarning: `Model.fit_generator` is deprecated and will be removed in a future version. Please use `Model.fit`, which supports generators.\n",
            "  This is separate from the ipykernel package so we can avoid doing imports until\n"
          ]
        },
        {
          "output_type": "stream",
          "name": "stdout",
          "text": [
            " 2/50 [>.............................] - ETA: 3s - loss: 1.6576 - accuracy: 0.2031 "
          ]
        },
        {
          "output_type": "stream",
          "name": "stderr",
          "text": [
            "WARNING:tensorflow:Your input ran out of data; interrupting training. Make sure that your dataset or generator can generate at least `steps_per_epoch * epochs` batches (in this case, 15000 batches). You may need to use the repeat() function when building your dataset.\n",
            "WARNING:tensorflow:Learning rate reduction is conditioned on metric `val_acc` which is not available. Available metrics are: loss,accuracy,val_loss,val_accuracy,lr\n"
          ]
        },
        {
          "output_type": "stream",
          "name": "stdout",
          "text": [
            "\b\b\b\b\b\b\b\b\b\b\b\b\b\b\b\b\b\b\b\b\b\b\b\b\b\b\b\b\b\b\b\b\b\b\b\b\b\b\b\b\b\b\b\b\b\b\b\b\b\b\b\b\b\b\b\b\b\b\b\b\b\b\b\b\b\b\b\b\b\b\b\b\b\b\b\b\b\b\b\b\b\b\r50/50 [==============================] - 1s 14ms/step - loss: 1.7144 - accuracy: 0.2059 - val_loss: 2.8250 - val_accuracy: 0.1667 - lr: 0.0010\n"
          ]
        }
      ]
    },
    {
      "cell_type": "code",
      "source": [
        "# 每迭代繪製損失\n",
        "plt.plot(r.history['loss'], label='loss')\n",
        "plt.plot(r.history['val_loss'], label='val_loss')\n",
        "plt.show()"
      ],
      "metadata": {
        "id": "MxDz92zpqhUZ",
        "colab": {
          "base_uri": "https://localhost:8080/",
          "height": 265
        },
        "outputId": "72bcb0cf-67a7-4a76-ee39-b6ead82f8f54"
      },
      "execution_count": null,
      "outputs": [
        {
          "output_type": "display_data",
          "data": {
            "text/plain": [
              "<Figure size 432x288 with 1 Axes>"
            ],
            "image/png": "[encoded data removed]"
          },
          "metadata": {
            "needs_background": "light"
          }
        }
      ]
    },
    {
      "cell_type": "code",
      "source": [
        "# 每迭代繪製精準度\n",
        "plt.plot(r.history['accuracy'], label='acc')\n",
        "plt.plot(r.history['val_accuracy'], label='val_acc')\n",
        "plt.show()"
      ],
      "metadata": {
        "id": "VHwqtrNTqi_p",
        "colab": {
          "base_uri": "https://localhost:8080/",
          "height": 265
        },
        "outputId": "e092f608-24f6-4884-c3ea-73a99dffc6f1"
      },
      "execution_count": null,
      "outputs": [
        {
          "output_type": "display_data",
          "data": {
            "text/plain": [
              "<Figure size 432x288 with 1 Axes>"
            ],
            "image/png": "[encoded data removed]"
          },
          "metadata": {
            "needs_background": "light"
          }
        }
      ]
    },
    {
      "cell_type": "code",
      "source": [
        "# 總結模型各層形狀與使用參數\n",
        "model.summary()"
      ],
      "metadata": {
        "id": "kDIgCqFYqku5",
        "colab": {
          "base_uri": "https://localhost:8080/"
        },
        "outputId": "c5667428-20bb-4213-8de9-51152b5df9a2"
      },
      "execution_count": null,
      "outputs": [
        {
          "output_type": "stream",
          "name": "stdout",
          "text": [
            "Model: \"model_19\"\n",
            "_________________________________________________________________\n",
            " Layer (type)                Output Shape              Param #   \n",
            "=================================================================\n",
            " input_24 (InputLayer)       [(None, 28, 28, 3)]       0         \n",
            "                                                                 \n",
            " conv2d_62 (Conv2D)          (None, 24, 24, 16)        1216      \n",
            "                                                                 \n",
            " conv2d_63 (Conv2D)          (None, 20, 20, 32)        12832     \n",
            "                                                                 \n",
            " flatten_20 (Flatten)        (None, 12800)             0         \n",
            "                                                                 \n",
            " dense_40 (Dense)            (None, 256)               3277056   \n",
            "                                                                 \n",
            " dense_41 (Dense)            (None, 4)                 1028      \n",
            "                                                                 \n",
            "=================================================================\n",
            "Total params: 3,292,132\n",
            "Trainable params: 3,292,132\n",
            "Non-trainable params: 0\n",
            "_________________________________________________________________\n"
          ]
        }
      ]
    }
  ]
}