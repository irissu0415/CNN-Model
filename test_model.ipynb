{
  "nbformat": 4,
  "nbformat_minor": 0,
  "metadata": {
    "colab": {
      "name": "test_model.ipynb",
      "provenance": [],
      "collapsed_sections": [],
      "include_colab_link": true
    },
    "kernelspec": {
      "name": "python3",
      "display_name": "Python 3"
    },
    "language_info": {
      "name": "python"
    }
  },
  "cells": [
    {
      "cell_type": "markdown",
      "metadata": {
        "id": "view-in-github",
        "colab_type": "text"
      },
      "source": [
        "<a href=\"https://colab.research.google.com/github/irissu0415/CNN-Model/blob/main/test_model.ipynb\" target=\"_parent\"><img src=\"https://colab.research.google.com/assets/colab-badge.svg\" alt=\"Open In Colab\"/></a>"
      ]
    },
    {
      "cell_type": "code",
      "execution_count": null,
      "metadata": {
        "id": "LUbF7AmKgCLM"
      },
      "outputs": [],
      "source": [
        "import numpy as np\n",
        "import cv2\n",
        "from matplotlib import pyplot as plt\n",
        "from tensorflow.keras.layers import Input, Conv2D, Dense, Flatten, Dropout, GlobalMaxPooling2D, MaxPooling2D, BatchNormalization\n",
        "from tensorflow.keras.models import Model\n",
        "from tensorflow.keras.preprocessing.image import ImageDataGenerator\n",
        "from tensorflow.keras.utils import to_categorical\n",
        "from sklearn.model_selection import train_test_split\n",
        "import os\n",
        "from sklearn.preprocessing import LabelEncoder"
      ]
    },
    {
      "cell_type": "code",
      "source": [
        "from google.colab import drive\n",
        "drive.mount('/content/drive')"
      ],
      "metadata": {
        "colab": {
          "base_uri": "https://localhost:8080/"
        },
        "id": "vHU6Qn3QTwpH",
        "outputId": "af025025-a84d-4040-bb27-9981d0397212"
      },
      "execution_count": null,
      "outputs": [
        {
          "output_type": "stream",
          "name": "stdout",
          "text": [
            "Mounted at /content/drive\n"
          ]
        }
      ]
    },
    {
      "cell_type": "code",
      "source": [
        "path1 = '/content/drive/MyDrive/Colab_Notebooks/CNN'\n",
        "\n",
        "x = []\n",
        "y = []"
      ],
      "metadata": {
        "id": "sF0eJ3jXqE9m"
      },
      "execution_count": null,
      "outputs": []
    },
    {
      "cell_type": "code",
      "source": [
        "# 定義ImageDataGenerator\n",
        "img_gen = ImageDataGenerator(featurewise_center=True, featurewise_std_normalization=True, rotation_range=10, \n",
        "                             width_shift_range=0.1, height_shift_range=0.1, shear_range=0.1, zoom_range=0.1)"
      ],
      "metadata": {
        "id": "MUsRITxqqJZ5"
      },
      "execution_count": null,
      "outputs": []
    },
    {
      "cell_type": "code",
      "source": [
        "n = 1\n",
        "for p in os.listdir(path1):\n",
        "    path2 = path1 + f'/{p}'\n",
        "    print(p)\n",
        "    for i in os.listdir(path2):\n",
        "        img = cv2.imread(f'{path2}/{i}')\n",
        "        img = cv2.resize(img, (28, 28))\n",
        "        # img = cv2.cvtColor(img, cv2.COLOR_BGR2RGB)  # Cv2讀進來是BGR，轉成RGB\n",
        "        x.append(np.array(img))\n",
        "        y.append(str(p))"
      ],
      "metadata": {
        "id": "swMUIX-iqN3R",
        "colab": {
          "base_uri": "https://localhost:8080/"
        },
        "outputId": "e9afe74c-f854-4556-baa4-ad4dfa7aa8e5"
      },
      "execution_count": null,
      "outputs": [
        {
          "output_type": "stream",
          "name": "stdout",
          "text": [
            "iMeiMilk\n",
            "ReiSuiMilk\n",
            "LimFengInMilk\n",
            "JuHsiangMilk\n"
          ]
        }
      ]
    },
    {
      "cell_type": "code",
      "source": [
        "# Label encoding\n",
        "label = LabelEncoder()\n",
        "y = label.fit_transform(y)\n",
        "y = to_categorical(y, 4)\n",
        "x = np.array(x)\n",
        "x = x / 255"
      ],
      "metadata": {
        "id": "5gn9fWSjqQJ9"
      },
      "execution_count": null,
      "outputs": []
    },
    {
      "cell_type": "code",
      "source": [
        "x_train[:5]"
      ],
      "metadata": {
        "colab": {
          "base_uri": "https://localhost:8080/",
          "height": 173
        },
        "id": "1kXN6qZ-YUZ-",
        "outputId": "f8e82210-b09a-4336-dfc2-df7b011d3577"
      },
      "execution_count": null,
      "outputs": [
        {
          "output_type": "error",
          "ename": "NameError",
          "evalue": "ignored",
          "traceback": [
            "\u001b[0;31m---------------------------------------------------------------------------\u001b[0m",
            "\u001b[0;31mNameError\u001b[0m                                 Traceback (most recent call last)",
            "\u001b[0;32m<ipython-input-10-826e9076ef79>\u001b[0m in \u001b[0;36m<module>\u001b[0;34m()\u001b[0m\n\u001b[0;32m----> 1\u001b[0;31m \u001b[0mx_train\u001b[0m\u001b[0;34m[\u001b[0m\u001b[0;34m:\u001b[0m\u001b[0;36m5\u001b[0m\u001b[0;34m]\u001b[0m\u001b[0;34m\u001b[0m\u001b[0;34m\u001b[0m\u001b[0m\n\u001b[0m",
            "\u001b[0;31mNameError\u001b[0m: name 'x_train' is not defined"
          ]
        }
      ]
    },
    {
      "cell_type": "code",
      "source": [
        "x_train, x_test, y_train, y_test = train_test_split(x, y, test_size=0.01, random_state=1)\n",
        "img_gen.fit(x_train)\n",
        "print(x_train.shape, x_train.ndim)\n",
        "print(y_train.shape, y_train.ndim)"
      ],
      "metadata": {
        "id": "IDkmBq44qTN5",
        "colab": {
          "base_uri": "https://localhost:8080/"
        },
        "outputId": "b9bd413d-26de-4343-fcad-e112b813274c"
      },
      "execution_count": null,
      "outputs": [
        {
          "output_type": "stream",
          "name": "stdout",
          "text": [
            "(85, 28, 28, 3) 4\n",
            "(85, 4) 2\n"
          ]
        }
      ]
    },
    {
      "cell_type": "code",
      "source": [
        "# model-1: 0.7857(epoch = 40 or 50)\n",
        "# i = Input(shape=x_train[0].shape)\n",
        "# x = Conv2D(32, (3, 3), strides=2, activation='relu')(i)\n",
        "# x = Conv2D(64, (3, 3), strides=2, activation='relu')(x)\n",
        "# x = Conv2D(128, (3, 3), strides=2, activation='relu')(x)\n",
        "# x = Flatten()(x)\n",
        "# x = Dropout(0.2)(x)\n",
        "# x = Dense(1024, activation='relu')(x)\n",
        "# x = Dropout(0.2)(x)\n",
        "# x = Dense(4, activation='softmax')(x)\n",
        "\n",
        "# model-2: 0.2413\n",
        "# i = Input(shape=x_train[0].shape)\n",
        "# x = Conv2D(32, (3, 3), activation='relu', padding='same')(i)\n",
        "# x = BatchNormalization()(x)\n",
        "# x = Conv2D(32, (3, 3), activation='relu', padding='same')(x)\n",
        "# x = BatchNormalization()(x)\n",
        "# x = MaxPooling2D((2, 2))(x)\n",
        "# # x = Dropout(0.2)(x)\n",
        "# x = Conv2D(64, (3, 3), activation='relu', padding='same')(x)\n",
        "# x = BatchNormalization()(x)\n",
        "# x = Conv2D(64, (3, 3), activation='relu', padding='same')(x)\n",
        "# x = BatchNormalization()(x)\n",
        "# x = MaxPooling2D((2, 2))(x)\n",
        "# # x = Dropout(0.2)(x)\n",
        "# x = Conv2D(128, (3, 3), activation='relu', padding='same')(x)\n",
        "# x = BatchNormalization()(x)\n",
        "# x = Conv2D(128, (3, 3), activation='relu', padding='same')(x)\n",
        "# x = BatchNormalization()(x)\n",
        "# x = MaxPooling2D((2, 2))(x)\n",
        "# # x = Dropout(0.2)(x)\n",
        "#\n",
        "# # x = GlobalMaxPooling2D()(x)\n",
        "# x = Flatten()(x)\n",
        "# x = Dropout(0.2)(x)\n",
        "# x = Dense(1024, activation='relu')(x)\n",
        "# x = Dropout(0.2)(x)\n",
        "# x = Dense(4, activation='softmax')(x)\n",
        "\n",
        "# model-3: 0.7778(epoch = 100 or 200)\n",
        "i = Input(shape=x_train[0].shape)\n",
        "x = Conv2D(32, (3, 3), strides=2, activation='relu')(i)\n",
        "x = MaxPooling2D((2, 2))(x)\n",
        "x = Conv2D(32, (3, 3), strides=2, activation='relu')(x)\n",
        "x = MaxPooling2D((2, 2))(x)\n",
        "\n",
        "x = Flatten()(x)\n",
        "x = Dense(256, activation='relu')(x)\n",
        "x = Dense(4, activation='softmax')(x)"
      ],
      "metadata": {
        "id": "HLQ6G3ltqVcv"
      },
      "execution_count": null,
      "outputs": []
    },
    {
      "cell_type": "code",
      "source": [
        "model = Model(i, x)\n",
        "batch_size = 32\n",
        "steps_per_epoch = x_train.shape[0] // batch_size\n",
        "model.compile(optimizer='adam', loss='categorical_crossentropy',  # for 2D y\n",
        "              metrics=['accuracy'])"
      ],
      "metadata": {
        "id": "PTZYSzZhqY9l"
      },
      "execution_count": null,
      "outputs": []
    },
    {
      "cell_type": "code",
      "source": [
        "# training model\n",
        "r = model.fit_generator(img_gen.flow(x_train, y_train, batch_size=batch_size), epochs=200,\n",
        "                        validation_data=(x_test, y_test), verbose=1, steps_per_epoch=steps_per_epoch)"
      ],
      "metadata": {
        "id": "ooQA_b8YqaxU",
        "colab": {
          "base_uri": "https://localhost:8080/"
        },
        "outputId": "baa2920c-54e5-436b-9e68-c242ba2233a3"
      },
      "execution_count": null,
      "outputs": [
        {
          "output_type": "stream",
          "name": "stderr",
          "text": [
            "/usr/local/lib/python3.7/dist-packages/ipykernel_launcher.py:3: UserWarning: `Model.fit_generator` is deprecated and will be removed in a future version. Please use `Model.fit`, which supports generators.\n",
            "  This is separate from the ipykernel package so we can avoid doing imports until\n"
          ]
        },
        {
          "output_type": "stream",
          "name": "stdout",
          "text": [
            "Epoch 1/200\n",
            "2/2 [==============================] - 1s 322ms/step - loss: 1.3686 - accuracy: 0.3585 - val_loss: 1.3066 - val_accuracy: 1.0000\n",
            "Epoch 2/200\n",
            "2/2 [==============================] - 0s 66ms/step - loss: 1.2982 - accuracy: 0.3774 - val_loss: 1.2415 - val_accuracy: 0.0000e+00\n",
            "Epoch 3/200\n",
            "2/2 [==============================] - 0s 62ms/step - loss: 1.2361 - accuracy: 0.3962 - val_loss: 1.1577 - val_accuracy: 0.0000e+00\n",
            "Epoch 4/200\n",
            "2/2 [==============================] - 0s 72ms/step - loss: 1.1829 - accuracy: 0.4531 - val_loss: 1.0794 - val_accuracy: 0.0000e+00\n",
            "Epoch 5/200\n",
            "2/2 [==============================] - 0s 60ms/step - loss: 1.1845 - accuracy: 0.4528 - val_loss: 0.9872 - val_accuracy: 0.0000e+00\n",
            "Epoch 6/200\n",
            "2/2 [==============================] - 0s 68ms/step - loss: 1.0700 - accuracy: 0.6038 - val_loss: 0.9367 - val_accuracy: 0.0000e+00\n",
            "Epoch 7/200\n",
            "2/2 [==============================] - 0s 65ms/step - loss: 1.1391 - accuracy: 0.4219 - val_loss: 0.9446 - val_accuracy: 0.0000e+00\n",
            "Epoch 8/200\n",
            "2/2 [==============================] - 0s 64ms/step - loss: 1.0774 - accuracy: 0.4906 - val_loss: 0.9982 - val_accuracy: 0.0000e+00\n",
            "Epoch 9/200\n",
            "2/2 [==============================] - 0s 59ms/step - loss: 1.1191 - accuracy: 0.4219 - val_loss: 0.9583 - val_accuracy: 0.0000e+00\n",
            "Epoch 10/200\n",
            "2/2 [==============================] - 0s 61ms/step - loss: 1.1263 - accuracy: 0.4375 - val_loss: 0.8845 - val_accuracy: 0.0000e+00\n",
            "Epoch 11/200\n",
            "2/2 [==============================] - 0s 90ms/step - loss: 1.0370 - accuracy: 0.5094 - val_loss: 0.8025 - val_accuracy: 0.0000e+00\n",
            "Epoch 12/200\n",
            "2/2 [==============================] - 0s 64ms/step - loss: 1.0280 - accuracy: 0.5156 - val_loss: 0.7472 - val_accuracy: 1.0000\n",
            "Epoch 13/200\n",
            "2/2 [==============================] - 0s 59ms/step - loss: 1.0267 - accuracy: 0.5849 - val_loss: 0.6829 - val_accuracy: 1.0000\n",
            "Epoch 14/200\n",
            "2/2 [==============================] - 0s 59ms/step - loss: 1.0182 - accuracy: 0.4906 - val_loss: 0.6359 - val_accuracy: 1.0000\n",
            "Epoch 15/200\n",
            "2/2 [==============================] - 0s 58ms/step - loss: 0.9995 - accuracy: 0.5156 - val_loss: 0.6516 - val_accuracy: 1.0000\n",
            "Epoch 16/200\n",
            "2/2 [==============================] - 0s 68ms/step - loss: 1.0516 - accuracy: 0.5472 - val_loss: 0.6809 - val_accuracy: 1.0000\n",
            "Epoch 17/200\n",
            "2/2 [==============================] - 0s 68ms/step - loss: 1.0056 - accuracy: 0.5094 - val_loss: 0.7033 - val_accuracy: 1.0000\n",
            "Epoch 18/200\n",
            "2/2 [==============================] - 0s 71ms/step - loss: 0.9517 - accuracy: 0.5938 - val_loss: 0.6942 - val_accuracy: 1.0000\n",
            "Epoch 19/200\n",
            "2/2 [==============================] - 0s 63ms/step - loss: 0.9465 - accuracy: 0.5938 - val_loss: 0.7133 - val_accuracy: 1.0000\n",
            "Epoch 20/200\n",
            "2/2 [==============================] - 0s 59ms/step - loss: 0.9870 - accuracy: 0.5156 - val_loss: 0.6427 - val_accuracy: 1.0000\n",
            "Epoch 21/200\n",
            "2/2 [==============================] - 0s 67ms/step - loss: 0.9535 - accuracy: 0.5469 - val_loss: 0.6202 - val_accuracy: 1.0000\n",
            "Epoch 22/200\n",
            "2/2 [==============================] - 0s 57ms/step - loss: 0.9022 - accuracy: 0.6038 - val_loss: 0.6472 - val_accuracy: 1.0000\n",
            "Epoch 23/200\n",
            "2/2 [==============================] - 0s 63ms/step - loss: 0.8931 - accuracy: 0.5312 - val_loss: 0.7849 - val_accuracy: 0.0000e+00\n",
            "Epoch 24/200\n",
            "2/2 [==============================] - 0s 65ms/step - loss: 0.9345 - accuracy: 0.5283 - val_loss: 0.7199 - val_accuracy: 0.0000e+00\n",
            "Epoch 25/200\n",
            "2/2 [==============================] - 0s 59ms/step - loss: 0.8111 - accuracy: 0.6719 - val_loss: 0.6867 - val_accuracy: 1.0000\n",
            "Epoch 26/200\n",
            "2/2 [==============================] - 0s 64ms/step - loss: 0.8493 - accuracy: 0.6038 - val_loss: 0.7166 - val_accuracy: 0.0000e+00\n",
            "Epoch 27/200\n",
            "2/2 [==============================] - 0s 64ms/step - loss: 0.8386 - accuracy: 0.6792 - val_loss: 0.7245 - val_accuracy: 0.0000e+00\n",
            "Epoch 28/200\n",
            "2/2 [==============================] - 0s 54ms/step - loss: 0.8041 - accuracy: 0.6981 - val_loss: 0.6747 - val_accuracy: 1.0000\n",
            "Epoch 29/200\n",
            "2/2 [==============================] - 0s 56ms/step - loss: 0.8007 - accuracy: 0.6562 - val_loss: 0.7455 - val_accuracy: 0.0000e+00\n",
            "Epoch 30/200\n",
            "2/2 [==============================] - 0s 55ms/step - loss: 0.7060 - accuracy: 0.6981 - val_loss: 0.8999 - val_accuracy: 0.0000e+00\n",
            "Epoch 31/200\n",
            "2/2 [==============================] - 0s 58ms/step - loss: 0.8065 - accuracy: 0.6250 - val_loss: 0.9304 - val_accuracy: 0.0000e+00\n",
            "Epoch 32/200\n",
            "2/2 [==============================] - 0s 61ms/step - loss: 0.7331 - accuracy: 0.6562 - val_loss: 0.6948 - val_accuracy: 1.0000\n",
            "Epoch 33/200\n",
            "2/2 [==============================] - 0s 56ms/step - loss: 0.7659 - accuracy: 0.6415 - val_loss: 0.5378 - val_accuracy: 1.0000\n",
            "Epoch 34/200\n",
            "2/2 [==============================] - 0s 64ms/step - loss: 0.6932 - accuracy: 0.6792 - val_loss: 0.5578 - val_accuracy: 1.0000\n",
            "Epoch 35/200\n",
            "2/2 [==============================] - 0s 61ms/step - loss: 0.6529 - accuracy: 0.7344 - val_loss: 0.6640 - val_accuracy: 1.0000\n",
            "Epoch 36/200\n",
            "2/2 [==============================] - 0s 57ms/step - loss: 0.6594 - accuracy: 0.7500 - val_loss: 0.8207 - val_accuracy: 0.0000e+00\n",
            "Epoch 37/200\n",
            "2/2 [==============================] - 0s 57ms/step - loss: 0.6324 - accuracy: 0.7925 - val_loss: 0.8426 - val_accuracy: 0.0000e+00\n",
            "Epoch 38/200\n",
            "2/2 [==============================] - 0s 52ms/step - loss: 0.6361 - accuracy: 0.7925 - val_loss: 0.5831 - val_accuracy: 1.0000\n",
            "Epoch 39/200\n",
            "2/2 [==============================] - 0s 57ms/step - loss: 0.6984 - accuracy: 0.6981 - val_loss: 0.4626 - val_accuracy: 1.0000\n",
            "Epoch 40/200\n",
            "2/2 [==============================] - 0s 67ms/step - loss: 0.6327 - accuracy: 0.7188 - val_loss: 0.5544 - val_accuracy: 1.0000\n",
            "Epoch 41/200\n",
            "2/2 [==============================] - 0s 61ms/step - loss: 0.6502 - accuracy: 0.6875 - val_loss: 0.7781 - val_accuracy: 0.0000e+00\n",
            "Epoch 42/200\n",
            "2/2 [==============================] - 0s 58ms/step - loss: 0.5682 - accuracy: 0.8113 - val_loss: 0.7703 - val_accuracy: 0.0000e+00\n",
            "Epoch 43/200\n",
            "2/2 [==============================] - 0s 84ms/step - loss: 0.6521 - accuracy: 0.7500 - val_loss: 0.6443 - val_accuracy: 1.0000\n",
            "Epoch 44/200\n",
            "2/2 [==============================] - 0s 54ms/step - loss: 0.5547 - accuracy: 0.7547 - val_loss: 0.6021 - val_accuracy: 1.0000\n",
            "Epoch 45/200\n",
            "2/2 [==============================] - 0s 57ms/step - loss: 0.5392 - accuracy: 0.7547 - val_loss: 0.6249 - val_accuracy: 1.0000\n",
            "Epoch 46/200\n",
            "2/2 [==============================] - 0s 67ms/step - loss: 0.4688 - accuracy: 0.8302 - val_loss: 0.6978 - val_accuracy: 1.0000\n",
            "Epoch 47/200\n",
            "2/2 [==============================] - 0s 58ms/step - loss: 0.5598 - accuracy: 0.8113 - val_loss: 0.8532 - val_accuracy: 0.0000e+00\n",
            "Epoch 48/200\n",
            "2/2 [==============================] - 0s 65ms/step - loss: 0.5381 - accuracy: 0.7500 - val_loss: 0.9462 - val_accuracy: 0.0000e+00\n",
            "Epoch 49/200\n",
            "2/2 [==============================] - 0s 61ms/step - loss: 0.4727 - accuracy: 0.7812 - val_loss: 0.8756 - val_accuracy: 0.0000e+00\n",
            "Epoch 50/200\n",
            "2/2 [==============================] - 0s 62ms/step - loss: 0.4519 - accuracy: 0.8679 - val_loss: 0.6508 - val_accuracy: 1.0000\n",
            "Epoch 51/200\n",
            "2/2 [==============================] - 0s 55ms/step - loss: 0.3812 - accuracy: 0.8868 - val_loss: 0.5420 - val_accuracy: 1.0000\n",
            "Epoch 52/200\n",
            "2/2 [==============================] - 0s 57ms/step - loss: 0.4419 - accuracy: 0.8302 - val_loss: 0.6494 - val_accuracy: 1.0000\n",
            "Epoch 53/200\n",
            "2/2 [==============================] - 0s 65ms/step - loss: 0.5122 - accuracy: 0.7925 - val_loss: 0.6253 - val_accuracy: 1.0000\n",
            "Epoch 54/200\n",
            "2/2 [==============================] - 0s 55ms/step - loss: 0.4088 - accuracy: 0.8113 - val_loss: 0.7417 - val_accuracy: 0.0000e+00\n",
            "Epoch 55/200\n",
            "2/2 [==============================] - 0s 71ms/step - loss: 0.5080 - accuracy: 0.7736 - val_loss: 0.7994 - val_accuracy: 0.0000e+00\n",
            "Epoch 56/200\n",
            "2/2 [==============================] - 0s 57ms/step - loss: 0.4050 - accuracy: 0.8302 - val_loss: 0.6054 - val_accuracy: 1.0000\n",
            "Epoch 57/200\n",
            "2/2 [==============================] - 0s 68ms/step - loss: 0.3718 - accuracy: 0.8868 - val_loss: 0.4610 - val_accuracy: 1.0000\n",
            "Epoch 58/200\n",
            "2/2 [==============================] - 0s 55ms/step - loss: 0.4395 - accuracy: 0.7812 - val_loss: 0.5655 - val_accuracy: 1.0000\n",
            "Epoch 59/200\n",
            "2/2 [==============================] - 0s 58ms/step - loss: 0.3686 - accuracy: 0.9057 - val_loss: 0.7023 - val_accuracy: 0.0000e+00\n",
            "Epoch 60/200\n",
            "2/2 [==============================] - 0s 63ms/step - loss: 0.3724 - accuracy: 0.8302 - val_loss: 0.5147 - val_accuracy: 1.0000\n",
            "Epoch 61/200\n",
            "2/2 [==============================] - 0s 66ms/step - loss: 0.5246 - accuracy: 0.7344 - val_loss: 0.4811 - val_accuracy: 1.0000\n",
            "Epoch 62/200\n",
            "2/2 [==============================] - 0s 71ms/step - loss: 0.3907 - accuracy: 0.8491 - val_loss: 0.9691 - val_accuracy: 0.0000e+00\n",
            "Epoch 63/200\n",
            "2/2 [==============================] - 0s 61ms/step - loss: 0.4135 - accuracy: 0.8302 - val_loss: 0.9519 - val_accuracy: 0.0000e+00\n",
            "Epoch 64/200\n",
            "2/2 [==============================] - 0s 67ms/step - loss: 0.4422 - accuracy: 0.8302 - val_loss: 0.5658 - val_accuracy: 1.0000\n",
            "Epoch 65/200\n",
            "2/2 [==============================] - 0s 66ms/step - loss: 0.3663 - accuracy: 0.8491 - val_loss: 0.6378 - val_accuracy: 1.0000\n",
            "Epoch 66/200\n",
            "2/2 [==============================] - 0s 72ms/step - loss: 0.3125 - accuracy: 0.9245 - val_loss: 0.6235 - val_accuracy: 1.0000\n",
            "Epoch 67/200\n",
            "2/2 [==============================] - 0s 61ms/step - loss: 0.3845 - accuracy: 0.8125 - val_loss: 0.3881 - val_accuracy: 1.0000\n",
            "Epoch 68/200\n",
            "2/2 [==============================] - 0s 56ms/step - loss: 0.3103 - accuracy: 0.8491 - val_loss: 0.2490 - val_accuracy: 1.0000\n",
            "Epoch 69/200\n",
            "2/2 [==============================] - 0s 63ms/step - loss: 0.3071 - accuracy: 0.9062 - val_loss: 0.2783 - val_accuracy: 1.0000\n",
            "Epoch 70/200\n",
            "2/2 [==============================] - 0s 59ms/step - loss: 0.3651 - accuracy: 0.8491 - val_loss: 0.6347 - val_accuracy: 1.0000\n",
            "Epoch 71/200\n",
            "2/2 [==============================] - 0s 60ms/step - loss: 0.3819 - accuracy: 0.8491 - val_loss: 0.9736 - val_accuracy: 0.0000e+00\n",
            "Epoch 72/200\n",
            "2/2 [==============================] - 0s 61ms/step - loss: 0.3531 - accuracy: 0.8594 - val_loss: 0.6807 - val_accuracy: 1.0000\n",
            "Epoch 73/200\n",
            "2/2 [==============================] - 0s 69ms/step - loss: 0.3647 - accuracy: 0.8438 - val_loss: 0.3098 - val_accuracy: 1.0000\n",
            "Epoch 74/200\n",
            "2/2 [==============================] - 0s 66ms/step - loss: 0.2322 - accuracy: 0.9057 - val_loss: 0.4486 - val_accuracy: 1.0000\n",
            "Epoch 75/200\n",
            "2/2 [==============================] - 0s 56ms/step - loss: 0.3460 - accuracy: 0.8491 - val_loss: 0.5225 - val_accuracy: 1.0000\n",
            "Epoch 76/200\n",
            "2/2 [==============================] - 0s 67ms/step - loss: 0.2428 - accuracy: 0.9434 - val_loss: 0.5631 - val_accuracy: 1.0000\n",
            "Epoch 77/200\n",
            "2/2 [==============================] - 0s 73ms/step - loss: 0.3123 - accuracy: 0.8491 - val_loss: 0.4007 - val_accuracy: 1.0000\n",
            "Epoch 78/200\n",
            "2/2 [==============================] - 0s 64ms/step - loss: 0.3094 - accuracy: 0.8302 - val_loss: 0.5436 - val_accuracy: 1.0000\n",
            "Epoch 79/200\n",
            "2/2 [==============================] - 0s 54ms/step - loss: 0.3257 - accuracy: 0.9062 - val_loss: 0.6606 - val_accuracy: 1.0000\n",
            "Epoch 80/200\n",
            "2/2 [==============================] - 0s 71ms/step - loss: 0.2825 - accuracy: 0.8679 - val_loss: 0.6443 - val_accuracy: 1.0000\n",
            "Epoch 81/200\n",
            "2/2 [==============================] - 0s 56ms/step - loss: 0.2425 - accuracy: 0.9062 - val_loss: 0.7655 - val_accuracy: 0.0000e+00\n",
            "Epoch 82/200\n",
            "2/2 [==============================] - 0s 65ms/step - loss: 0.2773 - accuracy: 0.9057 - val_loss: 0.4854 - val_accuracy: 1.0000\n",
            "Epoch 83/200\n",
            "2/2 [==============================] - 0s 62ms/step - loss: 0.2746 - accuracy: 0.9219 - val_loss: 0.3038 - val_accuracy: 1.0000\n",
            "Epoch 84/200\n",
            "2/2 [==============================] - 0s 71ms/step - loss: 0.2581 - accuracy: 0.9057 - val_loss: 0.3478 - val_accuracy: 1.0000\n",
            "Epoch 85/200\n",
            "2/2 [==============================] - 0s 55ms/step - loss: 0.3142 - accuracy: 0.8491 - val_loss: 0.5784 - val_accuracy: 1.0000\n",
            "Epoch 86/200\n",
            "2/2 [==============================] - 0s 56ms/step - loss: 0.2122 - accuracy: 0.9375 - val_loss: 0.7723 - val_accuracy: 0.0000e+00\n",
            "Epoch 87/200\n",
            "2/2 [==============================] - 0s 60ms/step - loss: 0.3251 - accuracy: 0.8679 - val_loss: 0.2991 - val_accuracy: 1.0000\n",
            "Epoch 88/200\n",
            "2/2 [==============================] - 0s 85ms/step - loss: 0.2693 - accuracy: 0.9057 - val_loss: 0.4197 - val_accuracy: 1.0000\n",
            "Epoch 89/200\n",
            "2/2 [==============================] - 0s 63ms/step - loss: 0.2587 - accuracy: 0.8868 - val_loss: 0.6453 - val_accuracy: 1.0000\n",
            "Epoch 90/200\n",
            "2/2 [==============================] - 0s 59ms/step - loss: 0.3126 - accuracy: 0.8906 - val_loss: 0.4781 - val_accuracy: 1.0000\n",
            "Epoch 91/200\n",
            "2/2 [==============================] - 0s 66ms/step - loss: 0.2053 - accuracy: 0.9245 - val_loss: 0.3609 - val_accuracy: 1.0000\n",
            "Epoch 92/200\n",
            "2/2 [==============================] - 0s 70ms/step - loss: 0.2252 - accuracy: 0.9245 - val_loss: 0.4594 - val_accuracy: 1.0000\n",
            "Epoch 93/200\n",
            "2/2 [==============================] - 0s 63ms/step - loss: 0.2440 - accuracy: 0.9375 - val_loss: 0.4749 - val_accuracy: 1.0000\n",
            "Epoch 94/200\n",
            "2/2 [==============================] - 0s 56ms/step - loss: 0.2508 - accuracy: 0.9434 - val_loss: 0.5771 - val_accuracy: 1.0000\n",
            "Epoch 95/200\n",
            "2/2 [==============================] - 0s 59ms/step - loss: 0.2425 - accuracy: 0.8868 - val_loss: 0.5052 - val_accuracy: 1.0000\n",
            "Epoch 96/200\n",
            "2/2 [==============================] - 0s 56ms/step - loss: 0.2211 - accuracy: 0.9375 - val_loss: 0.2001 - val_accuracy: 1.0000\n",
            "Epoch 97/200\n",
            "2/2 [==============================] - 0s 64ms/step - loss: 0.2912 - accuracy: 0.8679 - val_loss: 0.2430 - val_accuracy: 1.0000\n",
            "Epoch 98/200\n",
            "2/2 [==============================] - 0s 62ms/step - loss: 0.1828 - accuracy: 0.9375 - val_loss: 0.4066 - val_accuracy: 1.0000\n",
            "Epoch 99/200\n",
            "2/2 [==============================] - 0s 58ms/step - loss: 0.2286 - accuracy: 0.9057 - val_loss: 0.5372 - val_accuracy: 1.0000\n",
            "Epoch 100/200\n",
            "2/2 [==============================] - 0s 62ms/step - loss: 0.1717 - accuracy: 0.9688 - val_loss: 0.4980 - val_accuracy: 1.0000\n",
            "Epoch 101/200\n",
            "2/2 [==============================] - 0s 57ms/step - loss: 0.2639 - accuracy: 0.9375 - val_loss: 0.2929 - val_accuracy: 1.0000\n",
            "Epoch 102/200\n",
            "2/2 [==============================] - 0s 86ms/step - loss: 0.2480 - accuracy: 0.9434 - val_loss: 0.3964 - val_accuracy: 1.0000\n",
            "Epoch 103/200\n",
            "2/2 [==============================] - 0s 65ms/step - loss: 0.1962 - accuracy: 0.9245 - val_loss: 0.3507 - val_accuracy: 1.0000\n",
            "Epoch 104/200\n",
            "2/2 [==============================] - 0s 65ms/step - loss: 0.1870 - accuracy: 0.8868 - val_loss: 0.4258 - val_accuracy: 1.0000\n",
            "Epoch 105/200\n",
            "2/2 [==============================] - 0s 70ms/step - loss: 0.1739 - accuracy: 0.9245 - val_loss: 0.4190 - val_accuracy: 1.0000\n",
            "Epoch 106/200\n",
            "2/2 [==============================] - 0s 67ms/step - loss: 0.1605 - accuracy: 0.9531 - val_loss: 0.5115 - val_accuracy: 1.0000\n",
            "Epoch 107/200\n",
            "2/2 [==============================] - 0s 57ms/step - loss: 0.1832 - accuracy: 0.9219 - val_loss: 0.3274 - val_accuracy: 1.0000\n",
            "Epoch 108/200\n",
            "2/2 [==============================] - 0s 53ms/step - loss: 0.2327 - accuracy: 0.9623 - val_loss: 0.2042 - val_accuracy: 1.0000\n",
            "Epoch 109/200\n",
            "2/2 [==============================] - 0s 102ms/step - loss: 0.2020 - accuracy: 0.8868 - val_loss: 0.2705 - val_accuracy: 1.0000\n",
            "Epoch 110/200\n",
            "2/2 [==============================] - 0s 54ms/step - loss: 0.1053 - accuracy: 0.9811 - val_loss: 0.3016 - val_accuracy: 1.0000\n",
            "Epoch 111/200\n",
            "2/2 [==============================] - 0s 58ms/step - loss: 0.1465 - accuracy: 0.9688 - val_loss: 0.1878 - val_accuracy: 1.0000\n",
            "Epoch 112/200\n",
            "2/2 [==============================] - 0s 64ms/step - loss: 0.2110 - accuracy: 0.9057 - val_loss: 0.4411 - val_accuracy: 1.0000\n",
            "Epoch 113/200\n",
            "2/2 [==============================] - 0s 69ms/step - loss: 0.1999 - accuracy: 0.9375 - val_loss: 0.9014 - val_accuracy: 0.0000e+00\n",
            "Epoch 114/200\n",
            "2/2 [==============================] - 0s 68ms/step - loss: 0.1806 - accuracy: 0.9434 - val_loss: 0.5355 - val_accuracy: 1.0000\n",
            "Epoch 115/200\n",
            "2/2 [==============================] - 0s 74ms/step - loss: 0.1840 - accuracy: 0.9245 - val_loss: 0.3623 - val_accuracy: 1.0000\n",
            "Epoch 116/200\n",
            "2/2 [==============================] - 0s 58ms/step - loss: 0.1808 - accuracy: 0.9844 - val_loss: 0.3038 - val_accuracy: 1.0000\n",
            "Epoch 117/200\n",
            "2/2 [==============================] - 0s 60ms/step - loss: 0.1683 - accuracy: 0.9688 - val_loss: 0.5071 - val_accuracy: 1.0000\n",
            "Epoch 118/200\n",
            "2/2 [==============================] - 0s 58ms/step - loss: 0.2304 - accuracy: 0.9062 - val_loss: 0.5424 - val_accuracy: 1.0000\n",
            "Epoch 119/200\n",
            "2/2 [==============================] - 0s 56ms/step - loss: 0.1861 - accuracy: 0.9434 - val_loss: 0.1783 - val_accuracy: 1.0000\n",
            "Epoch 120/200\n",
            "2/2 [==============================] - 0s 61ms/step - loss: 0.1138 - accuracy: 0.9623 - val_loss: 0.0817 - val_accuracy: 1.0000\n",
            "Epoch 121/200\n",
            "2/2 [==============================] - 0s 56ms/step - loss: 0.2668 - accuracy: 0.8750 - val_loss: 0.1924 - val_accuracy: 1.0000\n",
            "Epoch 122/200\n",
            "2/2 [==============================] - 0s 64ms/step - loss: 0.1041 - accuracy: 0.9623 - val_loss: 0.9333 - val_accuracy: 0.0000e+00\n",
            "Epoch 123/200\n",
            "2/2 [==============================] - 0s 60ms/step - loss: 0.3068 - accuracy: 0.8302 - val_loss: 0.4194 - val_accuracy: 1.0000\n",
            "Epoch 124/200\n",
            "2/2 [==============================] - 0s 71ms/step - loss: 0.1845 - accuracy: 0.9531 - val_loss: 0.1671 - val_accuracy: 1.0000\n",
            "Epoch 125/200\n",
            "2/2 [==============================] - 0s 57ms/step - loss: 0.2566 - accuracy: 0.8302 - val_loss: 0.4221 - val_accuracy: 1.0000\n",
            "Epoch 126/200\n",
            "2/2 [==============================] - 0s 68ms/step - loss: 0.1354 - accuracy: 0.9434 - val_loss: 0.9932 - val_accuracy: 0.0000e+00\n",
            "Epoch 127/200\n",
            "2/2 [==============================] - 0s 59ms/step - loss: 0.1389 - accuracy: 0.9434 - val_loss: 0.6313 - val_accuracy: 1.0000\n",
            "Epoch 128/200\n",
            "2/2 [==============================] - 0s 55ms/step - loss: 0.1410 - accuracy: 0.9434 - val_loss: 0.2734 - val_accuracy: 1.0000\n",
            "Epoch 129/200\n",
            "2/2 [==============================] - 0s 55ms/step - loss: 0.1203 - accuracy: 0.9623 - val_loss: 0.1132 - val_accuracy: 1.0000\n",
            "Epoch 130/200\n",
            "2/2 [==============================] - 0s 60ms/step - loss: 0.2674 - accuracy: 0.8868 - val_loss: 0.1664 - val_accuracy: 1.0000\n",
            "Epoch 131/200\n",
            "2/2 [==============================] - 0s 75ms/step - loss: 0.1772 - accuracy: 0.9062 - val_loss: 0.5437 - val_accuracy: 1.0000\n",
            "Epoch 132/200\n",
            "2/2 [==============================] - 0s 61ms/step - loss: 0.0877 - accuracy: 0.9811 - val_loss: 0.8212 - val_accuracy: 0.0000e+00\n",
            "Epoch 133/200\n",
            "2/2 [==============================] - 0s 63ms/step - loss: 0.2030 - accuracy: 0.9062 - val_loss: 0.5215 - val_accuracy: 1.0000\n",
            "Epoch 134/200\n",
            "2/2 [==============================] - 0s 63ms/step - loss: 0.1547 - accuracy: 0.9811 - val_loss: 0.2148 - val_accuracy: 1.0000\n",
            "Epoch 135/200\n",
            "2/2 [==============================] - 0s 57ms/step - loss: 0.1453 - accuracy: 0.9623 - val_loss: 0.1803 - val_accuracy: 1.0000\n",
            "Epoch 136/200\n",
            "2/2 [==============================] - 0s 60ms/step - loss: 0.0914 - accuracy: 0.9688 - val_loss: 0.3457 - val_accuracy: 1.0000\n",
            "Epoch 137/200\n",
            "2/2 [==============================] - 0s 61ms/step - loss: 0.1370 - accuracy: 0.9531 - val_loss: 0.4036 - val_accuracy: 1.0000\n",
            "Epoch 138/200\n",
            "2/2 [==============================] - 0s 62ms/step - loss: 0.1126 - accuracy: 0.9623 - val_loss: 0.4879 - val_accuracy: 1.0000\n",
            "Epoch 139/200\n",
            "2/2 [==============================] - 0s 65ms/step - loss: 0.1262 - accuracy: 0.9623 - val_loss: 0.3293 - val_accuracy: 1.0000\n",
            "Epoch 140/200\n",
            "2/2 [==============================] - 0s 55ms/step - loss: 0.0999 - accuracy: 0.9811 - val_loss: 0.2209 - val_accuracy: 1.0000\n",
            "Epoch 141/200\n",
            "2/2 [==============================] - 0s 61ms/step - loss: 0.0961 - accuracy: 0.9844 - val_loss: 0.3873 - val_accuracy: 1.0000\n",
            "Epoch 142/200\n",
            "2/2 [==============================] - 0s 68ms/step - loss: 0.1593 - accuracy: 0.9811 - val_loss: 0.8210 - val_accuracy: 0.0000e+00\n",
            "Epoch 143/200\n",
            "2/2 [==============================] - 0s 64ms/step - loss: 0.1716 - accuracy: 0.9219 - val_loss: 0.6367 - val_accuracy: 1.0000\n",
            "Epoch 144/200\n",
            "2/2 [==============================] - 0s 65ms/step - loss: 0.1143 - accuracy: 0.9623 - val_loss: 0.2655 - val_accuracy: 1.0000\n",
            "Epoch 145/200\n",
            "2/2 [==============================] - 0s 59ms/step - loss: 0.1083 - accuracy: 0.9623 - val_loss: 0.1533 - val_accuracy: 1.0000\n",
            "Epoch 146/200\n",
            "2/2 [==============================] - 0s 59ms/step - loss: 0.1286 - accuracy: 0.9434 - val_loss: 0.4248 - val_accuracy: 1.0000\n",
            "Epoch 147/200\n",
            "2/2 [==============================] - 0s 73ms/step - loss: 0.1259 - accuracy: 0.9623 - val_loss: 0.6909 - val_accuracy: 1.0000\n",
            "Epoch 148/200\n",
            "2/2 [==============================] - 0s 59ms/step - loss: 0.1121 - accuracy: 0.9434 - val_loss: 0.4113 - val_accuracy: 1.0000\n",
            "Epoch 149/200\n",
            "2/2 [==============================] - 0s 64ms/step - loss: 0.1003 - accuracy: 0.9623 - val_loss: 0.1737 - val_accuracy: 1.0000\n",
            "Epoch 150/200\n",
            "2/2 [==============================] - 0s 67ms/step - loss: 0.1795 - accuracy: 0.9434 - val_loss: 0.2727 - val_accuracy: 1.0000\n",
            "Epoch 151/200\n",
            "2/2 [==============================] - 0s 74ms/step - loss: 0.1459 - accuracy: 0.9434 - val_loss: 0.5993 - val_accuracy: 1.0000\n",
            "Epoch 152/200\n",
            "2/2 [==============================] - 0s 64ms/step - loss: 0.1183 - accuracy: 0.9623 - val_loss: 0.5982 - val_accuracy: 1.0000\n",
            "Epoch 153/200\n",
            "2/2 [==============================] - 0s 78ms/step - loss: 0.1593 - accuracy: 0.9434 - val_loss: 0.1527 - val_accuracy: 1.0000\n",
            "Epoch 154/200\n",
            "2/2 [==============================] - 0s 61ms/step - loss: 0.2268 - accuracy: 0.9245 - val_loss: 0.2055 - val_accuracy: 1.0000\n",
            "Epoch 155/200\n",
            "2/2 [==============================] - 0s 78ms/step - loss: 0.1121 - accuracy: 0.9811 - val_loss: 0.8477 - val_accuracy: 0.0000e+00\n",
            "Epoch 156/200\n",
            "2/2 [==============================] - 0s 56ms/step - loss: 0.2364 - accuracy: 0.8906 - val_loss: 0.7355 - val_accuracy: 0.0000e+00\n",
            "Epoch 157/200\n",
            "2/2 [==============================] - 0s 61ms/step - loss: 0.1268 - accuracy: 0.9623 - val_loss: 0.2650 - val_accuracy: 1.0000\n",
            "Epoch 158/200\n",
            "2/2 [==============================] - 0s 64ms/step - loss: 0.0933 - accuracy: 0.9811 - val_loss: 0.1227 - val_accuracy: 1.0000\n",
            "Epoch 159/200\n",
            "2/2 [==============================] - 0s 57ms/step - loss: 0.1731 - accuracy: 0.9219 - val_loss: 0.2709 - val_accuracy: 1.0000\n",
            "Epoch 160/200\n",
            "2/2 [==============================] - 0s 67ms/step - loss: 0.1012 - accuracy: 0.9811 - val_loss: 0.6457 - val_accuracy: 1.0000\n",
            "Epoch 161/200\n",
            "2/2 [==============================] - 0s 55ms/step - loss: 0.1234 - accuracy: 0.9688 - val_loss: 0.9210 - val_accuracy: 0.0000e+00\n",
            "Epoch 162/200\n",
            "2/2 [==============================] - 0s 59ms/step - loss: 0.0565 - accuracy: 1.0000 - val_loss: 0.8237 - val_accuracy: 0.0000e+00\n",
            "Epoch 163/200\n",
            "2/2 [==============================] - 0s 54ms/step - loss: 0.1097 - accuracy: 0.9623 - val_loss: 0.3326 - val_accuracy: 1.0000\n",
            "Epoch 164/200\n",
            "2/2 [==============================] - 0s 54ms/step - loss: 0.1456 - accuracy: 0.9245 - val_loss: 0.1335 - val_accuracy: 1.0000\n",
            "Epoch 165/200\n",
            "2/2 [==============================] - 0s 68ms/step - loss: 0.1001 - accuracy: 0.9811 - val_loss: 0.2757 - val_accuracy: 1.0000\n",
            "Epoch 166/200\n",
            "2/2 [==============================] - 0s 59ms/step - loss: 0.0961 - accuracy: 0.9688 - val_loss: 0.5142 - val_accuracy: 1.0000\n",
            "Epoch 167/200\n",
            "2/2 [==============================] - 0s 62ms/step - loss: 0.0601 - accuracy: 0.9844 - val_loss: 0.7735 - val_accuracy: 0.0000e+00\n",
            "Epoch 168/200\n",
            "2/2 [==============================] - 0s 89ms/step - loss: 0.1446 - accuracy: 0.9375 - val_loss: 0.2568 - val_accuracy: 1.0000\n",
            "Epoch 169/200\n",
            "2/2 [==============================] - 0s 65ms/step - loss: 0.1056 - accuracy: 0.9623 - val_loss: 0.1834 - val_accuracy: 1.0000\n",
            "Epoch 170/200\n",
            "2/2 [==============================] - 0s 68ms/step - loss: 0.1178 - accuracy: 0.9623 - val_loss: 0.3839 - val_accuracy: 1.0000\n",
            "Epoch 171/200\n",
            "2/2 [==============================] - 0s 65ms/step - loss: 0.0513 - accuracy: 1.0000 - val_loss: 0.7747 - val_accuracy: 0.0000e+00\n",
            "Epoch 172/200\n",
            "2/2 [==============================] - 0s 57ms/step - loss: 0.1776 - accuracy: 0.9245 - val_loss: 0.7387 - val_accuracy: 0.0000e+00\n",
            "Epoch 173/200\n",
            "2/2 [==============================] - 0s 66ms/step - loss: 0.0663 - accuracy: 0.9811 - val_loss: 0.4952 - val_accuracy: 1.0000\n",
            "Epoch 174/200\n",
            "2/2 [==============================] - 0s 60ms/step - loss: 0.1223 - accuracy: 0.9531 - val_loss: 0.3113 - val_accuracy: 1.0000\n",
            "Epoch 175/200\n",
            "2/2 [==============================] - 0s 85ms/step - loss: 0.0864 - accuracy: 0.9623 - val_loss: 0.3818 - val_accuracy: 1.0000\n",
            "Epoch 176/200\n",
            "2/2 [==============================] - 0s 65ms/step - loss: 0.0702 - accuracy: 0.9688 - val_loss: 0.3743 - val_accuracy: 1.0000\n",
            "Epoch 177/200\n",
            "2/2 [==============================] - 0s 68ms/step - loss: 0.1019 - accuracy: 0.9811 - val_loss: 0.1163 - val_accuracy: 1.0000\n",
            "Epoch 178/200\n",
            "2/2 [==============================] - 0s 80ms/step - loss: 0.0946 - accuracy: 0.9434 - val_loss: 0.0878 - val_accuracy: 1.0000\n",
            "Epoch 179/200\n",
            "2/2 [==============================] - 0s 70ms/step - loss: 0.0980 - accuracy: 0.9623 - val_loss: 0.2229 - val_accuracy: 1.0000\n",
            "Epoch 180/200\n",
            "2/2 [==============================] - 0s 58ms/step - loss: 0.0745 - accuracy: 0.9688 - val_loss: 0.6076 - val_accuracy: 1.0000\n",
            "Epoch 181/200\n",
            "2/2 [==============================] - 0s 64ms/step - loss: 0.0742 - accuracy: 0.9811 - val_loss: 0.8974 - val_accuracy: 0.0000e+00\n",
            "Epoch 182/200\n",
            "2/2 [==============================] - 0s 62ms/step - loss: 0.0805 - accuracy: 0.9531 - val_loss: 0.5519 - val_accuracy: 1.0000\n",
            "Epoch 183/200\n",
            "2/2 [==============================] - 0s 72ms/step - loss: 0.0865 - accuracy: 0.9811 - val_loss: 0.2189 - val_accuracy: 1.0000\n",
            "Epoch 184/200\n",
            "2/2 [==============================] - 0s 70ms/step - loss: 0.1142 - accuracy: 0.9623 - val_loss: 0.2041 - val_accuracy: 1.0000\n",
            "Epoch 185/200\n",
            "2/2 [==============================] - 0s 67ms/step - loss: 0.0776 - accuracy: 0.9688 - val_loss: 0.6205 - val_accuracy: 1.0000\n",
            "Epoch 186/200\n",
            "2/2 [==============================] - 0s 74ms/step - loss: 0.0790 - accuracy: 0.9623 - val_loss: 1.0373 - val_accuracy: 0.0000e+00\n",
            "Epoch 187/200\n",
            "2/2 [==============================] - 0s 61ms/step - loss: 0.1289 - accuracy: 0.9245 - val_loss: 0.5541 - val_accuracy: 1.0000\n",
            "Epoch 188/200\n",
            "2/2 [==============================] - 0s 60ms/step - loss: 0.0580 - accuracy: 0.9844 - val_loss: 0.1438 - val_accuracy: 1.0000\n",
            "Epoch 189/200\n",
            "2/2 [==============================] - 0s 80ms/step - loss: 0.1191 - accuracy: 0.9623 - val_loss: 0.0890 - val_accuracy: 1.0000\n",
            "Epoch 190/200\n",
            "2/2 [==============================] - 0s 60ms/step - loss: 0.0772 - accuracy: 0.9623 - val_loss: 0.2426 - val_accuracy: 1.0000\n",
            "Epoch 191/200\n",
            "2/2 [==============================] - 0s 72ms/step - loss: 0.0481 - accuracy: 0.9811 - val_loss: 0.4194 - val_accuracy: 1.0000\n",
            "Epoch 192/200\n",
            "2/2 [==============================] - 0s 61ms/step - loss: 0.0628 - accuracy: 1.0000 - val_loss: 0.6732 - val_accuracy: 1.0000\n",
            "Epoch 193/200\n",
            "2/2 [==============================] - 0s 61ms/step - loss: 0.0723 - accuracy: 1.0000 - val_loss: 0.4541 - val_accuracy: 1.0000\n",
            "Epoch 194/200\n",
            "2/2 [==============================] - 0s 59ms/step - loss: 0.1158 - accuracy: 0.9688 - val_loss: 0.5265 - val_accuracy: 1.0000\n",
            "Epoch 195/200\n",
            "2/2 [==============================] - 0s 72ms/step - loss: 0.0724 - accuracy: 1.0000 - val_loss: 0.5699 - val_accuracy: 1.0000\n",
            "Epoch 196/200\n",
            "2/2 [==============================] - 0s 73ms/step - loss: 0.0544 - accuracy: 0.9811 - val_loss: 0.4122 - val_accuracy: 1.0000\n",
            "Epoch 197/200\n",
            "2/2 [==============================] - 0s 67ms/step - loss: 0.1044 - accuracy: 0.9844 - val_loss: 0.2520 - val_accuracy: 1.0000\n",
            "Epoch 198/200\n",
            "2/2 [==============================] - 0s 58ms/step - loss: 0.0533 - accuracy: 1.0000 - val_loss: 0.1371 - val_accuracy: 1.0000\n",
            "Epoch 199/200\n",
            "2/2 [==============================] - 0s 61ms/step - loss: 0.1325 - accuracy: 0.9375 - val_loss: 0.1027 - val_accuracy: 1.0000\n",
            "Epoch 200/200\n",
            "2/2 [==============================] - 0s 66ms/step - loss: 0.0740 - accuracy: 0.9811 - val_loss: 0.1988 - val_accuracy: 1.0000\n"
          ]
        }
      ]
    },
    {
      "cell_type": "code",
      "source": [
        "# 每迭代繪製損失\n",
        "plt.plot(r.history['loss'], label='loss')\n",
        "plt.plot(r.history['val_loss'], label='val_loss')\n",
        "plt.show()"
      ],
      "metadata": {
        "id": "MxDz92zpqhUZ",
        "colab": {
          "base_uri": "https://localhost:8080/",
          "height": 265
        },
        "outputId": "69421f20-e940-4e87-c973-b833ab80990b"
      },
      "execution_count": null,
      "outputs": [
        {
          "output_type": "display_data",
          "data": {
            "text/plain": [
              "<Figure size 432x288 with 1 Axes>"
            ],
            "image/png": "[encoded data removed]"
          },
          "metadata": {
            "needs_background": "light"
          }
        }
      ]
    },
    {
      "cell_type": "code",
      "source": [
        "# 每迭代繪製精準度\n",
        "plt.plot(r.history['accuracy'], label='acc')\n",
        "plt.plot(r.history['val_accuracy'], label='val_acc')\n",
        "plt.show()"
      ],
      "metadata": {
        "id": "VHwqtrNTqi_p",
        "colab": {
          "base_uri": "https://localhost:8080/",
          "height": 265
        },
        "outputId": "6c109938-79a6-4de8-a02f-528bda3b2d04"
      },
      "execution_count": null,
      "outputs": [
        {
          "output_type": "display_data",
          "data": {
            "text/plain": [
              "<Figure size 432x288 with 1 Axes>"
            ],
            "image/png": "[encoded data removed]"
          },
          "metadata": {
            "needs_background": "light"
          }
        }
      ]
    },
    {
      "cell_type": "code",
      "source": [
        "# 總結模型各層形狀與使用參數\n",
        "model.summary()"
      ],
      "metadata": {
        "id": "kDIgCqFYqku5"
      },
      "execution_count": null,
      "outputs": []
    }
  ]
}